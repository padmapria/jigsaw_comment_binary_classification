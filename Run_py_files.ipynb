{
 "cells": [
  {
   "cell_type": "code",
   "execution_count": 20,
   "id": "a585e221",
   "metadata": {
    "ExecuteTime": {
     "end_time": "2023-01-31T14:07:25.631173Z",
     "start_time": "2023-01-31T14:04:38.585570Z"
    }
   },
   "outputs": [
    {
     "name": "stdout",
     "output_type": "stream",
     "text": [
      "Calling clean data $$$$$$$\n",
      "Calling spacy_tokens *****\n",
      "Train Test split *****\n",
      "Training model *****\n",
      "Results for the vectorizer :: Sentence_Transformer_LR\n",
      "Logistic Regression Accuracy: 0.8909090909090909\n",
      "Logistic Regression Precision: 0.9006211180124224\n",
      "Logistic Regression Recall: 0.8787878787878788\n",
      "\n",
      "Results for the vectorizer :: Sentence_Transformer_cleaned_LR\n",
      "Logistic Regression Accuracy: 0.8893939393939394\n",
      "Logistic Regression Precision: 0.8882175226586103\n",
      "Logistic Regression Recall: 0.8909090909090909\n",
      "\n",
      "Results for the vectorizer :: Sentence_Transformer_RF\n",
      "RF Accuracy: 0.8757575757575757\n",
      "RF Precision: 0.8949044585987261\n",
      "RF Recall: 0.8515151515151516\n",
      "\n",
      "Results for the vectorizer :: Sentence_Transformer_cleaned_RF\n",
      "RF Accuracy: 0.8696969696969697\n",
      "RF Precision: 0.8765432098765432\n",
      "RF Recall: 0.8606060606060606\n",
      "\n"
     ]
    }
   ],
   "source": [
    "!python model.py"
   ]
  },
  {
   "cell_type": "code",
   "execution_count": 21,
   "id": "62e2088f",
   "metadata": {
    "ExecuteTime": {
     "end_time": "2023-01-31T14:07:31.768396Z",
     "start_time": "2023-01-31T14:07:31.292110Z"
    }
   },
   "outputs": [
    {
     "name": "stdout",
     "output_type": "stream",
     "text": [
      "1\n"
     ]
    }
   ],
   "source": [
    "!python request.py"
   ]
  },
  {
   "cell_type": "code",
   "execution_count": null,
   "id": "bc65e359",
   "metadata": {},
   "outputs": [],
   "source": []
  }
 ],
 "metadata": {
  "hide_input": false,
  "kernelspec": {
   "display_name": "Python 3 (ipykernel)",
   "language": "python",
   "name": "python3"
  },
  "language_info": {
   "codemirror_mode": {
    "name": "ipython",
    "version": 3
   },
   "file_extension": ".py",
   "mimetype": "text/x-python",
   "name": "python",
   "nbconvert_exporter": "python",
   "pygments_lexer": "ipython3",
   "version": "3.9.7"
  },
  "toc": {
   "base_numbering": 1,
   "nav_menu": {},
   "number_sections": true,
   "sideBar": true,
   "skip_h1_title": false,
   "title_cell": "Table of Contents",
   "title_sidebar": "Contents",
   "toc_cell": false,
   "toc_position": {},
   "toc_section_display": true,
   "toc_window_display": false
  }
 },
 "nbformat": 4,
 "nbformat_minor": 5
}
